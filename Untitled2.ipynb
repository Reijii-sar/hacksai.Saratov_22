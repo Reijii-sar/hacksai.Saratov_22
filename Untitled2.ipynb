{
 "cells": [
  {
   "cell_type": "code",
   "execution_count": 21,
   "id": "30524747",
   "metadata": {},
   "outputs": [],
   "source": [
    "#!pip install transliterate"
   ]
  },
  {
   "cell_type": "markdown",
   "id": "7e94eb80",
   "metadata": {},
   "source": [
    "**Постановщик задачи:**  \n",
    "Росстат Саратовской области\n",
    "\n",
    "**Задача:**  \n",
    "поиск и классификация конкретных категорий товаров в наборе различных наименований. Необходимо разметить следующие категории:\n",
    "- Хлебные изделия - код 9\n",
    "- Напитки газированные - код 4\n",
    "- Вода - код 0\n",
    "- Молоко 2.5-3.2 % - код 3\n",
    "- Молочные продукты - код 2\n",
    "- Макароны - код 1\n",
    "- Фрукты - код 7\n",
    "- Продукция общепитов - код 6\n",
    "- Товары без категории  - код 10\n",
    "В наборе данных существует сильный перевес в сторону товаров без категории.\n",
    "\n",
    "**Метрика:**  \n",
    "Recall"
   ]
  },
  {
   "cell_type": "code",
   "execution_count": 22,
   "id": "e36b5c18",
   "metadata": {},
   "outputs": [],
   "source": [
    "import pandas as pd\n",
    "import re\n",
    "from sklearn.feature_extraction.text import TfidfVectorizer, TfidfTransformer\n",
    "from sklearn.model_selection import train_test_split, GridSearchCV\n",
    "from catboost import CatBoostClassifier, Pool\n",
    "from sklearn.metrics import recall_score\n",
    "from sklearn.pipeline import Pipeline\n",
    "import warnings\n",
    "import time"
   ]
  },
  {
   "cell_type": "code",
   "execution_count": 23,
   "id": "a5cd1671",
   "metadata": {},
   "outputs": [],
   "source": [
    "warnings.filterwarnings('ignore')\n",
    "#pd.set_option('display.max_colwidth', None) #выводим на экран весь текст из колонки\n",
    "pd.set_option('display.max_rows', None) #выводим на экран все строки\n",
    "pd.set_option('display.max_columns', None) #выводим на экран все колонки\n",
    "pd.set_option('display.max_colwidth', None) #выводим полный текст"
   ]
  },
  {
   "cell_type": "code",
   "execution_count": 24,
   "id": "36401fd7",
   "metadata": {},
   "outputs": [],
   "source": [
    "df_train = pd.read_csv('train_dataset_train.csv')\n",
    "df_test = pd.read_csv('test_dataset_test.csv')\n",
    "sample_solution = pd.read_csv('sample_solution.csv')\n",
    "excel = pd.read_excel('categories.xlsx', usecols='A:C', header=8, nrows=10)"
   ]
  },
  {
   "cell_type": "code",
   "execution_count": 25,
   "id": "e2d3091a",
   "metadata": {},
   "outputs": [
    {
     "data": {
      "text/html": [
       "<div>\n",
       "<style scoped>\n",
       "    .dataframe tbody tr th:only-of-type {\n",
       "        vertical-align: middle;\n",
       "    }\n",
       "\n",
       "    .dataframe tbody tr th {\n",
       "        vertical-align: top;\n",
       "    }\n",
       "\n",
       "    .dataframe thead th {\n",
       "        text-align: right;\n",
       "    }\n",
       "</style>\n",
       "<table border=\"1\" class=\"dataframe\">\n",
       "  <thead>\n",
       "    <tr style=\"text-align: right;\">\n",
       "      <th></th>\n",
       "      <th>Наименование товара (услуги)-представителя</th>\n",
       "      <th>Код \\nтовара (услуги)</th>\n",
       "      <th>Общая характеристика товара (услуги)-представителя</th>\n",
       "    </tr>\n",
       "  </thead>\n",
       "  <tbody>\n",
       "    <tr>\n",
       "      <th>0</th>\n",
       "      <td>Хлеб и булочные изделия из пшеничной муки различных сортов, кг</td>\n",
       "      <td>9</td>\n",
       "      <td>Хлеб и булочные изделия из пшеничной муки высшего сорта, 1 и 2 сортов, а также с добавлением муки ржаной и отрубной (формовой, подовый, батоны и т.п.). За исключением сдобных булочных изделий.</td>\n",
       "    </tr>\n",
       "    <tr>\n",
       "      <th>1</th>\n",
       "      <td>Напитки газированные, л</td>\n",
       "      <td>4</td>\n",
       "      <td>Лимонад, содовая, кола и т.п., кроме кваса. За исключением воды минеральной.</td>\n",
       "    </tr>\n",
       "    <tr>\n",
       "      <th>2</th>\n",
       "      <td>Вода минеральная и питьевая, л</td>\n",
       "      <td>0</td>\n",
       "      <td>Вода минеральная столовая, лечебная и вода родниковая питьевая, с газом или без газа.</td>\n",
       "    </tr>\n",
       "    <tr>\n",
       "      <th>3</th>\n",
       "      <td>Молоко питьевое цельное стерилизованное 2,5-3,2% жирности, л</td>\n",
       "      <td>3</td>\n",
       "      <td>Молоко стерилизованное фасованное коровье, включая ультрапастеризованное, жирностью 2,5-3,2% типа  \"36 копеек\", \"Лианозовское\", \"Царицынское\" и т.п. Кроме молочного продукта, растительного, топленого.</td>\n",
       "    </tr>\n",
       "    <tr>\n",
       "      <th>4</th>\n",
       "      <td>Макаронные изделия из пшеничной муки высшего сорта, кг</td>\n",
       "      <td>1</td>\n",
       "      <td>Макароны, спагетти, рожки, лапша и прочие макаронные изделия. За исключением вермишели.</td>\n",
       "    </tr>\n",
       "    <tr>\n",
       "      <th>5</th>\n",
       "      <td>Продукция предприятий  общественного питания быстрого обслуживания (сэндвич типа \"Гамбургер\"), шт.</td>\n",
       "      <td>6</td>\n",
       "      <td>Сэндвич, состоящий из мясной котлеты, бифштекса  рубленого (из различных видов мяса) внутри разрезанной булки, типа гамбургер, чизбургер и т.п., реализуемый предприятиями общественного питания быстрого обслуживания: Макдональдс, KFС, Burger King  и т.д.</td>\n",
       "    </tr>\n",
       "    <tr>\n",
       "      <th>6</th>\n",
       "      <td>Молоко питьевое</td>\n",
       "      <td>2</td>\n",
       "      <td>NaN</td>\n",
       "    </tr>\n",
       "    <tr>\n",
       "      <th>7</th>\n",
       "      <td>Свежие фрукты</td>\n",
       "      <td>7</td>\n",
       "      <td>NaN</td>\n",
       "    </tr>\n",
       "    <tr>\n",
       "      <th>8</th>\n",
       "      <td>Без категории</td>\n",
       "      <td>10</td>\n",
       "      <td>NaN</td>\n",
       "    </tr>\n",
       "  </tbody>\n",
       "</table>\n",
       "</div>"
      ],
      "text/plain": [
       "                                                           Наименование товара (услуги)-представителя  \\\n",
       "0                                      Хлеб и булочные изделия из пшеничной муки различных сортов, кг   \n",
       "1                                                                             Напитки газированные, л   \n",
       "2                                                                      Вода минеральная и питьевая, л   \n",
       "3                                        Молоко питьевое цельное стерилизованное 2,5-3,2% жирности, л   \n",
       "4                                              Макаронные изделия из пшеничной муки высшего сорта, кг   \n",
       "5  Продукция предприятий  общественного питания быстрого обслуживания (сэндвич типа \"Гамбургер\"), шт.   \n",
       "6                                                                                     Молоко питьевое   \n",
       "7                                                                                       Свежие фрукты   \n",
       "8                                                                                       Без категории   \n",
       "\n",
       "   Код \\nтовара (услуги)  \\\n",
       "0                      9   \n",
       "1                      4   \n",
       "2                      0   \n",
       "3                      3   \n",
       "4                      1   \n",
       "5                      6   \n",
       "6                      2   \n",
       "7                      7   \n",
       "8                     10   \n",
       "\n",
       "                                                                                                                                                                                                              Общая характеристика товара (услуги)-представителя  \n",
       "0                                                               Хлеб и булочные изделия из пшеничной муки высшего сорта, 1 и 2 сортов, а также с добавлением муки ржаной и отрубной (формовой, подовый, батоны и т.п.). За исключением сдобных булочных изделий.  \n",
       "1                                                                                                                                                                                   Лимонад, содовая, кола и т.п., кроме кваса. За исключением воды минеральной.  \n",
       "2                                                                                                                                                                          Вода минеральная столовая, лечебная и вода родниковая питьевая, с газом или без газа.  \n",
       "3                                                       Молоко стерилизованное фасованное коровье, включая ультрапастеризованное, жирностью 2,5-3,2% типа  \"36 копеек\", \"Лианозовское\", \"Царицынское\" и т.п. Кроме молочного продукта, растительного, топленого.  \n",
       "4                                                                                                                                                                       Макароны, спагетти, рожки, лапша и прочие макаронные изделия. За исключением вермишели.   \n",
       "5  Сэндвич, состоящий из мясной котлеты, бифштекса  рубленого (из различных видов мяса) внутри разрезанной булки, типа гамбургер, чизбургер и т.п., реализуемый предприятиями общественного питания быстрого обслуживания: Макдональдс, KFС, Burger King  и т.д.  \n",
       "6                                                                                                                                                                                                                                                            NaN  \n",
       "7                                                                                                                                                                                                                                                            NaN  \n",
       "8                                                                                                                                                                                                                                                            NaN  "
      ]
     },
     "execution_count": 25,
     "metadata": {},
     "output_type": "execute_result"
    }
   ],
   "source": [
    "#расшифровка категорий\n",
    "excel"
   ]
  },
  {
   "cell_type": "code",
   "execution_count": 26,
   "id": "7921f89f",
   "metadata": {},
   "outputs": [],
   "source": [
    "train = df_train.copy()\n",
    "test = df_test.copy()"
   ]
  },
  {
   "cell_type": "code",
   "execution_count": 27,
   "id": "ac38b6ad",
   "metadata": {},
   "outputs": [],
   "source": [
    "id_group = excel['Код \\nтовара (услуги)'].unique()"
   ]
  },
  {
   "cell_type": "code",
   "execution_count": 28,
   "id": "76df9bd2",
   "metadata": {},
   "outputs": [],
   "source": [
    "train['name'] = train['name'].fillna('нет')"
   ]
  },
  {
   "cell_type": "code",
   "execution_count": 29,
   "id": "88e4c6dd",
   "metadata": {},
   "outputs": [],
   "source": [
    "def clean_text (data):\n",
    "    data = data.str.lower()\n",
    "    data = data.str.replace(r'[e]','е')\n",
    "    data = data.str.replace(r'[t]','т')\n",
    "    data = data.str.replace(r'[y]','у')\n",
    "    data = data.str.replace(r'[u]','и')\n",
    "    data = data.str.replace(r'[o]','о')\n",
    "    data = data.str.replace(r'[p]','р')\n",
    "    data = data.str.replace(r'[a]','а')\n",
    "    data = data.str.replace(r'[h]','н')\n",
    "    data = data.str.replace(r'[k]','к')\n",
    "    data = data.str.replace(r'[x]','х')\n",
    "    data = data.str.replace(r'[c]','с')\n",
    "    data = data.str.replace(r'[b]','в')\n",
    "    data = data.str.replace(r'[n]','п')\n",
    "    data = data.str.replace(r'[m]','м')\n",
    "    data = data.str.replace(r'[^а-яё]',' ')\n",
    "    return data"
   ]
  },
  {
   "cell_type": "code",
   "execution_count": 30,
   "id": "f1c27222",
   "metadata": {},
   "outputs": [
    {
     "name": "stdout",
     "output_type": "stream",
     "text": [
      "Wall time: 16.4 s\n"
     ]
    }
   ],
   "source": [
    "%%time\n",
    "train['name'] = clean_text (train['name'])"
   ]
  },
  {
   "cell_type": "code",
   "execution_count": 31,
   "id": "db5c0443",
   "metadata": {},
   "outputs": [
    {
     "name": "stdout",
     "output_type": "stream",
     "text": [
      "Wall time: 7.11 s\n"
     ]
    }
   ],
   "source": [
    "%%time\n",
    "test['name'] = clean_text (test['name'])"
   ]
  },
  {
   "cell_type": "code",
   "execution_count": 32,
   "id": "42a59a92",
   "metadata": {},
   "outputs": [],
   "source": [
    "stop_words = ['кг', 'г', 'л', 'шт', 'вес', 'гост', 'ту', 'тм', 'гр']"
   ]
  },
  {
   "cell_type": "code",
   "execution_count": 33,
   "id": "34dcf346",
   "metadata": {},
   "outputs": [],
   "source": [
    "train = train.drop('id', axis=1)\n",
    "test = test.drop('id', axis=1)"
   ]
  },
  {
   "cell_type": "code",
   "execution_count": 34,
   "id": "ebe55f64",
   "metadata": {},
   "outputs": [],
   "source": [
    "vectorize = TfidfVectorizer(\n",
    "#    ngram_range=(1,3),  \n",
    "#    min_df=3,\n",
    "#    max_df=0.9,\n",
    "#    use_idf=1,\n",
    "#    smooth_idf=1,\n",
    "#    sublinear_tf=1,\n",
    "     stop_words=stop_words\n",
    ")\n",
    "#tf_idf.fit(train['name'])\n",
    "#train['name'] = tf_idf.transform (train['name'])\n"
   ]
  },
  {
   "cell_type": "code",
   "execution_count": 35,
   "id": "ab8902d0",
   "metadata": {},
   "outputs": [],
   "source": [
    "X = train.drop('groups', axis=1)\n",
    "y = train['groups']"
   ]
  },
  {
   "cell_type": "code",
   "execution_count": 36,
   "id": "f162a737",
   "metadata": {},
   "outputs": [],
   "source": [
    "X_train, X_test, y_train, y_test = train_test_split(X, y, test_size = 0.25, random_state=12345)"
   ]
  },
  {
   "cell_type": "code",
   "execution_count": 37,
   "id": "4b03273c",
   "metadata": {},
   "outputs": [
    {
     "name": "stdout",
     "output_type": "stream",
     "text": [
      "Wall time: 8.62 s\n"
     ]
    }
   ],
   "source": [
    "%%time\n",
    "X_train = vectorize.fit_transform(X_train['name'])\n",
    "X_test = vectorize.transform(X_test['name'])"
   ]
  },
  {
   "cell_type": "code",
   "execution_count": 38,
   "id": "54176d85",
   "metadata": {},
   "outputs": [],
   "source": [
    "import numpy as np\n",
    "from sklearn.utils import compute_class_weight\n",
    "classes = np.unique(y_train)\n",
    "weights = compute_class_weight(class_weight='balanced', classes=classes, y=y_train) \n",
    "class_weights = dict(zip(classes, weights))"
   ]
  },
  {
   "cell_type": "code",
   "execution_count": null,
   "id": "4dbdcfec",
   "metadata": {},
   "outputs": [
    {
     "name": "stdout",
     "output_type": "stream",
     "text": [
      "Learning rate set to 0.193613\n",
      "0:\tlearn: 1.5050089\ttest: 1.5090221\tbest: 1.5090221 (0)\ttotal: 14.5s\tremaining: 1h 12m 1s\n",
      "10:\tlearn: 0.7165796\ttest: 0.7193241\tbest: 0.7193241 (10)\ttotal: 1m 41s\tremaining: 44m 24s\n",
      "20:\tlearn: 0.5138359\ttest: 0.5159568\tbest: 0.5159568 (20)\ttotal: 3m 4s\tremaining: 40m 54s\n"
     ]
    }
   ],
   "source": [
    "%%time\n",
    "\n",
    "#cat_features =['name']\n",
    "\n",
    "model = CatBoostClassifier(\n",
    "    random_state=12345,\n",
    "#    task_type='GPU',\n",
    "    iterations = 300,   #v1 - 100\n",
    "#    learning_rate = 0.1,\n",
    "#   depth = 8, \n",
    "#    eval_metric = 'Recall',\n",
    "    bootstrap_type ='Bernoulli', #v1- none\n",
    "    class_weights = class_weights, #v1- none\n",
    "    verbose = 10,\n",
    "#    ignored_features = 'id',\n",
    "#    loss_function = 'MultiClass',\n",
    "#    classes_count = 11,\n",
    ")\n",
    "\n",
    "model.fit(X_train, y_train, early_stopping_rounds=10, eval_set=(X_test, y_test))#, plot=True)\n",
    "\n",
    "\n",
    "\n"
   ]
  },
  {
   "cell_type": "code",
   "execution_count": null,
   "id": "1f3f0048",
   "metadata": {},
   "outputs": [],
   "source": [
    "predictions = model.predict(X_test)"
   ]
  },
  {
   "cell_type": "code",
   "execution_count": null,
   "id": "76b5ef72",
   "metadata": {},
   "outputs": [],
   "source": [
    "print (recall_score(y_test, predictions, average='macro'))"
   ]
  },
  {
   "cell_type": "code",
   "execution_count": null,
   "id": "fd56c7b5",
   "metadata": {},
   "outputs": [],
   "source": [
    "final_test = vectorize.transform(test['name'])"
   ]
  },
  {
   "cell_type": "code",
   "execution_count": null,
   "id": "a2aa37ea",
   "metadata": {},
   "outputs": [],
   "source": [
    "pred_solution = model.predict(final_test)"
   ]
  },
  {
   "cell_type": "code",
   "execution_count": null,
   "id": "0e9168b6",
   "metadata": {},
   "outputs": [],
   "source": [
    "sample_solution['groups'] = pred_solution.astype(int)"
   ]
  },
  {
   "cell_type": "code",
   "execution_count": null,
   "id": "dc2d9059",
   "metadata": {},
   "outputs": [],
   "source": [
    "sample_solution.head()"
   ]
  },
  {
   "cell_type": "code",
   "execution_count": null,
   "id": "0880ee8a",
   "metadata": {},
   "outputs": [],
   "source": [
    "sample_solution.to_csv('submission_3.csv', index=False)"
   ]
  }
 ],
 "metadata": {
  "kernelspec": {
   "display_name": "Python 3",
   "language": "python",
   "name": "python3"
  },
  "language_info": {
   "codemirror_mode": {
    "name": "ipython",
    "version": 3
   },
   "file_extension": ".py",
   "mimetype": "text/x-python",
   "name": "python",
   "nbconvert_exporter": "python",
   "pygments_lexer": "ipython3",
   "version": "3.8.8"
  }
 },
 "nbformat": 4,
 "nbformat_minor": 5
}
