{
  "cells": [
    {
      "cell_type": "markdown",
      "metadata": {
        "id": "view-in-github",
        "colab_type": "text"
      },
      "source": [
        "<a href=\"https://colab.research.google.com/github/Reijii-sar/hacksai.Saratov_22/blob/main/Untitled6_(1).ipynb\" target=\"_parent\"><img src=\"https://colab.research.google.com/assets/colab-badge.svg\" alt=\"Open In Colab\"/></a>"
      ]
    },
    {
      "cell_type": "code",
      "execution_count": null,
      "metadata": {
        "colab": {
          "base_uri": "https://localhost:8080/",
          "height": 142
        },
        "id": "OGvuSAYpKizv",
        "outputId": "27b30b3d-721c-4101-eb4f-f1412832f2f0"
      },
      "outputs": [
        {
          "output_type": "display_data",
          "data": {
            "text/plain": [
              "<IPython.core.display.HTML object>"
            ],
            "text/html": [
              "\n",
              "     <input type=\"file\" id=\"files-003b30f2-79c3-466e-8f6d-0fc4e480e2b1\" name=\"files[]\" multiple disabled\n",
              "        style=\"border:none\" />\n",
              "     <output id=\"result-003b30f2-79c3-466e-8f6d-0fc4e480e2b1\">\n",
              "      Upload widget is only available when the cell has been executed in the\n",
              "      current browser session. Please rerun this cell to enable.\n",
              "      </output>\n",
              "      <script>// Copyright 2017 Google LLC\n",
              "//\n",
              "// Licensed under the Apache License, Version 2.0 (the \"License\");\n",
              "// you may not use this file except in compliance with the License.\n",
              "// You may obtain a copy of the License at\n",
              "//\n",
              "//      http://www.apache.org/licenses/LICENSE-2.0\n",
              "//\n",
              "// Unless required by applicable law or agreed to in writing, software\n",
              "// distributed under the License is distributed on an \"AS IS\" BASIS,\n",
              "// WITHOUT WARRANTIES OR CONDITIONS OF ANY KIND, either express or implied.\n",
              "// See the License for the specific language governing permissions and\n",
              "// limitations under the License.\n",
              "\n",
              "/**\n",
              " * @fileoverview Helpers for google.colab Python module.\n",
              " */\n",
              "(function(scope) {\n",
              "function span(text, styleAttributes = {}) {\n",
              "  const element = document.createElement('span');\n",
              "  element.textContent = text;\n",
              "  for (const key of Object.keys(styleAttributes)) {\n",
              "    element.style[key] = styleAttributes[key];\n",
              "  }\n",
              "  return element;\n",
              "}\n",
              "\n",
              "// Max number of bytes which will be uploaded at a time.\n",
              "const MAX_PAYLOAD_SIZE = 100 * 1024;\n",
              "\n",
              "function _uploadFiles(inputId, outputId) {\n",
              "  const steps = uploadFilesStep(inputId, outputId);\n",
              "  const outputElement = document.getElementById(outputId);\n",
              "  // Cache steps on the outputElement to make it available for the next call\n",
              "  // to uploadFilesContinue from Python.\n",
              "  outputElement.steps = steps;\n",
              "\n",
              "  return _uploadFilesContinue(outputId);\n",
              "}\n",
              "\n",
              "// This is roughly an async generator (not supported in the browser yet),\n",
              "// where there are multiple asynchronous steps and the Python side is going\n",
              "// to poll for completion of each step.\n",
              "// This uses a Promise to block the python side on completion of each step,\n",
              "// then passes the result of the previous step as the input to the next step.\n",
              "function _uploadFilesContinue(outputId) {\n",
              "  const outputElement = document.getElementById(outputId);\n",
              "  const steps = outputElement.steps;\n",
              "\n",
              "  const next = steps.next(outputElement.lastPromiseValue);\n",
              "  return Promise.resolve(next.value.promise).then((value) => {\n",
              "    // Cache the last promise value to make it available to the next\n",
              "    // step of the generator.\n",
              "    outputElement.lastPromiseValue = value;\n",
              "    return next.value.response;\n",
              "  });\n",
              "}\n",
              "\n",
              "/**\n",
              " * Generator function which is called between each async step of the upload\n",
              " * process.\n",
              " * @param {string} inputId Element ID of the input file picker element.\n",
              " * @param {string} outputId Element ID of the output display.\n",
              " * @return {!Iterable<!Object>} Iterable of next steps.\n",
              " */\n",
              "function* uploadFilesStep(inputId, outputId) {\n",
              "  const inputElement = document.getElementById(inputId);\n",
              "  inputElement.disabled = false;\n",
              "\n",
              "  const outputElement = document.getElementById(outputId);\n",
              "  outputElement.innerHTML = '';\n",
              "\n",
              "  const pickedPromise = new Promise((resolve) => {\n",
              "    inputElement.addEventListener('change', (e) => {\n",
              "      resolve(e.target.files);\n",
              "    });\n",
              "  });\n",
              "\n",
              "  const cancel = document.createElement('button');\n",
              "  inputElement.parentElement.appendChild(cancel);\n",
              "  cancel.textContent = 'Cancel upload';\n",
              "  const cancelPromise = new Promise((resolve) => {\n",
              "    cancel.onclick = () => {\n",
              "      resolve(null);\n",
              "    };\n",
              "  });\n",
              "\n",
              "  // Wait for the user to pick the files.\n",
              "  const files = yield {\n",
              "    promise: Promise.race([pickedPromise, cancelPromise]),\n",
              "    response: {\n",
              "      action: 'starting',\n",
              "    }\n",
              "  };\n",
              "\n",
              "  cancel.remove();\n",
              "\n",
              "  // Disable the input element since further picks are not allowed.\n",
              "  inputElement.disabled = true;\n",
              "\n",
              "  if (!files) {\n",
              "    return {\n",
              "      response: {\n",
              "        action: 'complete',\n",
              "      }\n",
              "    };\n",
              "  }\n",
              "\n",
              "  for (const file of files) {\n",
              "    const li = document.createElement('li');\n",
              "    li.append(span(file.name, {fontWeight: 'bold'}));\n",
              "    li.append(span(\n",
              "        `(${file.type || 'n/a'}) - ${file.size} bytes, ` +\n",
              "        `last modified: ${\n",
              "            file.lastModifiedDate ? file.lastModifiedDate.toLocaleDateString() :\n",
              "                                    'n/a'} - `));\n",
              "    const percent = span('0% done');\n",
              "    li.appendChild(percent);\n",
              "\n",
              "    outputElement.appendChild(li);\n",
              "\n",
              "    const fileDataPromise = new Promise((resolve) => {\n",
              "      const reader = new FileReader();\n",
              "      reader.onload = (e) => {\n",
              "        resolve(e.target.result);\n",
              "      };\n",
              "      reader.readAsArrayBuffer(file);\n",
              "    });\n",
              "    // Wait for the data to be ready.\n",
              "    let fileData = yield {\n",
              "      promise: fileDataPromise,\n",
              "      response: {\n",
              "        action: 'continue',\n",
              "      }\n",
              "    };\n",
              "\n",
              "    // Use a chunked sending to avoid message size limits. See b/62115660.\n",
              "    let position = 0;\n",
              "    do {\n",
              "      const length = Math.min(fileData.byteLength - position, MAX_PAYLOAD_SIZE);\n",
              "      const chunk = new Uint8Array(fileData, position, length);\n",
              "      position += length;\n",
              "\n",
              "      const base64 = btoa(String.fromCharCode.apply(null, chunk));\n",
              "      yield {\n",
              "        response: {\n",
              "          action: 'append',\n",
              "          file: file.name,\n",
              "          data: base64,\n",
              "        },\n",
              "      };\n",
              "\n",
              "      let percentDone = fileData.byteLength === 0 ?\n",
              "          100 :\n",
              "          Math.round((position / fileData.byteLength) * 100);\n",
              "      percent.textContent = `${percentDone}% done`;\n",
              "\n",
              "    } while (position < fileData.byteLength);\n",
              "  }\n",
              "\n",
              "  // All done.\n",
              "  yield {\n",
              "    response: {\n",
              "      action: 'complete',\n",
              "    }\n",
              "  };\n",
              "}\n",
              "\n",
              "scope.google = scope.google || {};\n",
              "scope.google.colab = scope.google.colab || {};\n",
              "scope.google.colab._files = {\n",
              "  _uploadFiles,\n",
              "  _uploadFilesContinue,\n",
              "};\n",
              "})(self);\n",
              "</script> "
            ]
          },
          "metadata": {}
        },
        {
          "output_type": "stream",
          "name": "stdout",
          "text": [
            "Saving sample_solution.csv to sample_solution.csv\n",
            "Saving test_dataset_test.csv to test_dataset_test.csv\n",
            "Saving train_dataset_train.csv to train_dataset_train.csv\n"
          ]
        }
      ],
      "source": [
        "#from google.colab import files\n",
        "#uploaded = files.upload()"
      ]
    },
    {
      "cell_type": "code",
      "execution_count": null,
      "metadata": {
        "colab": {
          "base_uri": "https://localhost:8080/"
        },
        "id": "yQOgD4nkQr3M",
        "outputId": "4e130146-cba4-479a-80aa-d27fe240d4f8"
      },
      "outputs": [
        {
          "output_type": "stream",
          "name": "stdout",
          "text": [
            "Looking in indexes: https://pypi.org/simple, https://us-python.pkg.dev/colab-wheels/public/simple/\n",
            "Collecting catboost\n",
            "  Downloading catboost-1.0.6-cp37-none-manylinux1_x86_64.whl (76.6 MB)\n",
            "\u001b[K     |████████████████████████████████| 76.6 MB 1.2 MB/s \n",
            "\u001b[?25hRequirement already satisfied: numpy>=1.16.0 in /usr/local/lib/python3.7/dist-packages (from catboost) (1.21.6)\n",
            "Requirement already satisfied: plotly in /usr/local/lib/python3.7/dist-packages (from catboost) (5.5.0)\n",
            "Requirement already satisfied: scipy in /usr/local/lib/python3.7/dist-packages (from catboost) (1.7.3)\n",
            "Requirement already satisfied: graphviz in /usr/local/lib/python3.7/dist-packages (from catboost) (0.10.1)\n",
            "Requirement already satisfied: matplotlib in /usr/local/lib/python3.7/dist-packages (from catboost) (3.2.2)\n",
            "Requirement already satisfied: six in /usr/local/lib/python3.7/dist-packages (from catboost) (1.15.0)\n",
            "Requirement already satisfied: pandas>=0.24.0 in /usr/local/lib/python3.7/dist-packages (from catboost) (1.3.5)\n",
            "Requirement already satisfied: python-dateutil>=2.7.3 in /usr/local/lib/python3.7/dist-packages (from pandas>=0.24.0->catboost) (2.8.2)\n",
            "Requirement already satisfied: pytz>=2017.3 in /usr/local/lib/python3.7/dist-packages (from pandas>=0.24.0->catboost) (2022.2.1)\n",
            "Requirement already satisfied: cycler>=0.10 in /usr/local/lib/python3.7/dist-packages (from matplotlib->catboost) (0.11.0)\n",
            "Requirement already satisfied: pyparsing!=2.0.4,!=2.1.2,!=2.1.6,>=2.0.1 in /usr/local/lib/python3.7/dist-packages (from matplotlib->catboost) (3.0.9)\n",
            "Requirement already satisfied: kiwisolver>=1.0.1 in /usr/local/lib/python3.7/dist-packages (from matplotlib->catboost) (1.4.4)\n",
            "Requirement already satisfied: typing-extensions in /usr/local/lib/python3.7/dist-packages (from kiwisolver>=1.0.1->matplotlib->catboost) (4.1.1)\n",
            "Requirement already satisfied: tenacity>=6.2.0 in /usr/local/lib/python3.7/dist-packages (from plotly->catboost) (8.0.1)\n",
            "Installing collected packages: catboost\n",
            "Successfully installed catboost-1.0.6\n"
          ]
        }
      ],
      "source": [
        "#pip install catboost"
      ]
    },
    {
      "cell_type": "code",
      "execution_count": null,
      "metadata": {
        "id": "FlysOyZBKnxO"
      },
      "outputs": [],
      "source": [
        "import pandas as pd\n",
        "import re\n",
        "from sklearn.feature_extraction.text import TfidfVectorizer, TfidfTransformer\n",
        "from sklearn.model_selection import train_test_split\n",
        "from catboost import CatBoostClassifier\n",
        "from sklearn.metrics import recall_score\n",
        "import numpy as np\n",
        "from sklearn.utils import compute_class_weight\n",
        "import warnings\n",
        "import time"
      ]
    },
    {
      "cell_type": "code",
      "execution_count": null,
      "metadata": {
        "id": "rpSDI8hNKsIc"
      },
      "outputs": [],
      "source": [
        "warnings.filterwarnings('ignore')"
      ]
    },
    {
      "cell_type": "code",
      "execution_count": null,
      "metadata": {
        "id": "VNCP-ZuXKwAv"
      },
      "outputs": [],
      "source": [
        "train = pd.read_csv('train_dataset_train.csv')\n",
        "test = pd.read_csv('test_dataset_test.csv')\n",
        "sample_solution = pd.read_csv('sample_solution.csv')"
      ]
    },
    {
      "cell_type": "code",
      "execution_count": null,
      "metadata": {
        "id": "05m8cB46Kz9Q"
      },
      "outputs": [],
      "source": [
        "train['name'] = train['name'].fillna('нет')"
      ]
    },
    {
      "cell_type": "code",
      "execution_count": null,
      "metadata": {
        "id": "jw4ny1fpK6QN"
      },
      "outputs": [],
      "source": [
        "def clean_text (data):\n",
        "    data = data.str.lower()\n",
        "    data = data.str.replace(r'[e]','е')\n",
        "    data = data.str.replace(r'[t]','т')\n",
        "    data = data.str.replace(r'[y]','у')\n",
        "    data = data.str.replace(r'[u]','и')\n",
        "    data = data.str.replace(r'[o]','о')\n",
        "    data = data.str.replace(r'[p]','р')\n",
        "    data = data.str.replace(r'[a]','а')\n",
        "    data = data.str.replace(r'[h]','н')\n",
        "    data = data.str.replace(r'[k]','к')\n",
        "    data = data.str.replace(r'[x]','х')\n",
        "    data = data.str.replace(r'[c]','с')\n",
        "    data = data.str.replace(r'[b]','в')\n",
        "    data = data.str.replace(r'[n]','п')\n",
        "    data = data.str.replace(r'[m]','м')\n",
        "    data = data.str.replace(r'[^а-яё]',' ')\n",
        "    return data"
      ]
    },
    {
      "cell_type": "code",
      "execution_count": null,
      "metadata": {
        "colab": {
          "base_uri": "https://localhost:8080/"
        },
        "id": "6FMAomTSK94j",
        "outputId": "562792c7-593b-4edd-ac12-626c7ed5536b"
      },
      "outputs": [
        {
          "output_type": "stream",
          "name": "stdout",
          "text": [
            "CPU times: user 14.3 s, sys: 240 ms, total: 14.6 s\n",
            "Wall time: 18.7 s\n"
          ]
        }
      ],
      "source": [
        "%%time\n",
        "train['name'] = clean_text (train['name'])"
      ]
    },
    {
      "cell_type": "code",
      "execution_count": null,
      "metadata": {
        "colab": {
          "base_uri": "https://localhost:8080/"
        },
        "id": "9YPFC548K_7F",
        "outputId": "d40e8030-dba5-412d-b3e8-63cc1fa25933"
      },
      "outputs": [
        {
          "output_type": "stream",
          "name": "stdout",
          "text": [
            "CPU times: user 4.47 s, sys: 103 ms, total: 4.57 s\n",
            "Wall time: 4.64 s\n"
          ]
        }
      ],
      "source": [
        "%%time\n",
        "test['name'] = clean_text (test['name'])"
      ]
    },
    {
      "cell_type": "code",
      "execution_count": null,
      "metadata": {
        "id": "JYy3j8VOJyCA"
      },
      "outputs": [],
      "source": [
        "vectsubject = TfidfVectorizer(analyzer='word')\n",
        "vectsubject.fit_transform(train['name'])\n",
        "stop_words = [f for f in vectsubject.get_feature_names() if len(f) < 3]\n",
        "#print (stop_words)"
      ]
    },
    {
      "cell_type": "code",
      "execution_count": null,
      "metadata": {
        "id": "ACT8_jzfLGVE"
      },
      "outputs": [],
      "source": [
        "train = train.drop('id', axis=1)\n",
        "test = test.drop('id', axis=1)"
      ]
    },
    {
      "cell_type": "code",
      "execution_count": null,
      "metadata": {
        "id": "CboHjrdRLHD9"
      },
      "outputs": [],
      "source": [
        "vectorize = TfidfVectorizer(\n",
        "     sublinear_tf=1,\n",
        "     stop_words=stop_words\n",
        ")"
      ]
    },
    {
      "cell_type": "code",
      "execution_count": null,
      "metadata": {
        "id": "oAcuIR6YLNhp"
      },
      "outputs": [],
      "source": [
        "X = train.drop('groups', axis=1)\n",
        "y = train['groups']"
      ]
    },
    {
      "cell_type": "code",
      "execution_count": null,
      "metadata": {
        "id": "js6n9-ksLP5t"
      },
      "outputs": [],
      "source": [
        "X_train, X_test, y_train, y_test = train_test_split(X, y, test_size = 0.25, random_state=12345)"
      ]
    },
    {
      "cell_type": "code",
      "execution_count": null,
      "metadata": {
        "colab": {
          "base_uri": "https://localhost:8080/"
        },
        "id": "Z4wE0TW8LTse",
        "outputId": "a398c568-ed80-46a1-a9f3-4c63b2bcdb4d"
      },
      "outputs": [
        {
          "output_type": "stream",
          "name": "stdout",
          "text": [
            "CPU times: user 6.16 s, sys: 40.1 ms, total: 6.2 s\n",
            "Wall time: 6.23 s\n"
          ]
        }
      ],
      "source": [
        "%%time\n",
        "X_train = vectorize.fit_transform(X_train['name'])\n",
        "X_test = vectorize.transform(X_test['name'])"
      ]
    },
    {
      "cell_type": "code",
      "execution_count": null,
      "metadata": {
        "id": "HMe6smBILVr0"
      },
      "outputs": [],
      "source": [
        "classes = np.unique(y_train)\n",
        "weights = compute_class_weight(class_weight='balanced', classes=classes, y=y_train) \n",
        "class_weights = dict(zip(classes, weights))"
      ]
    },
    {
      "cell_type": "code",
      "execution_count": null,
      "metadata": {
        "colab": {
          "base_uri": "https://localhost:8080/"
        },
        "id": "dbfGCGbKLbAZ",
        "outputId": "ee1c3582-423d-474d-f801-c947d8711d2f"
      },
      "outputs": [
        {
          "output_type": "stream",
          "name": "stdout",
          "text": [
            "0:\tlearn: 1.8111374\ttest: 1.8134803\tbest: 1.8134803 (0)\ttotal: 10.8s\tremaining: 15h 57s\n",
            "100:\tlearn: 0.3352614\ttest: 0.3415228\tbest: 0.3415228 (100)\ttotal: 12m 40s\tremaining: 10h 15m 6s\n",
            "200:\tlearn: 0.2228347\ttest: 0.2304757\tbest: 0.2304757 (200)\ttotal: 24m 55s\tremaining: 9h 55m 11s\n",
            "300:\tlearn: 0.1784476\ttest: 0.1881161\tbest: 0.1881161 (300)\ttotal: 37m 5s\tremaining: 9h 38m 59s\n",
            "400:\tlearn: 0.1561961\ttest: 0.1678674\tbest: 0.1678674 (400)\ttotal: 49m 19s\tremaining: 9h 25m 41s\n",
            "500:\tlearn: 0.1424405\ttest: 0.1560506\tbest: 0.1560506 (500)\ttotal: 1h 1m 23s\tremaining: 9h 11m 22s\n",
            "600:\tlearn: 0.1328160\ttest: 0.1478362\tbest: 0.1478362 (600)\ttotal: 1h 13m 34s\tremaining: 8h 58m 35s\n",
            "700:\tlearn: 0.1258172\ttest: 0.1422048\tbest: 0.1422010 (699)\ttotal: 1h 25m 35s\tremaining: 8h 44m 51s\n",
            "800:\tlearn: 0.1202148\ttest: 0.1375634\tbest: 0.1375634 (800)\ttotal: 1h 37m 36s\tremaining: 8h 31m 39s\n",
            "900:\tlearn: 0.1158432\ttest: 0.1343842\tbest: 0.1343842 (900)\ttotal: 1h 49m 37s\tremaining: 8h 18m 41s\n",
            "1000:\tlearn: 0.1121186\ttest: 0.1316949\tbest: 0.1316949 (1000)\ttotal: 2h 1m 36s\tremaining: 8h 5m 48s\n",
            "1100:\tlearn: 0.1084173\ttest: 0.1288887\tbest: 0.1288887 (1100)\ttotal: 2h 13m 34s\tremaining: 7h 53m 2s\n",
            "1200:\tlearn: 0.1056404\ttest: 0.1270160\tbest: 0.1270160 (1200)\ttotal: 2h 25m 31s\tremaining: 7h 40m 18s\n",
            "1300:\tlearn: 0.1032562\ttest: 0.1255810\tbest: 0.1255810 (1300)\ttotal: 2h 37m 28s\tremaining: 7h 27m 42s\n",
            "1400:\tlearn: 0.1010036\ttest: 0.1241218\tbest: 0.1241218 (1400)\ttotal: 2h 49m 24s\tremaining: 7h 15m 11s\n",
            "1500:\tlearn: 0.0991150\ttest: 0.1229715\tbest: 0.1229715 (1500)\ttotal: 3h 1m 19s\tremaining: 7h 2m 42s\n",
            "1600:\tlearn: 0.0974862\ttest: 0.1219220\tbest: 0.1219220 (1600)\ttotal: 3h 13m 11s\tremaining: 6h 50m 10s\n",
            "1700:\tlearn: 0.0962276\ttest: 0.1212113\tbest: 0.1212095 (1699)\ttotal: 3h 25m 2s\tremaining: 6h 37m 40s\n",
            "1800:\tlearn: 0.0951146\ttest: 0.1205649\tbest: 0.1205587 (1797)\ttotal: 3h 36m 54s\tremaining: 6h 25m 16s\n",
            "1900:\tlearn: 0.0941188\ttest: 0.1200107\tbest: 0.1200107 (1900)\ttotal: 3h 48m 45s\tremaining: 6h 12m 56s\n",
            "2000:\tlearn: 0.0928643\ttest: 0.1191670\tbest: 0.1191670 (1999)\ttotal: 4h 39s\tremaining: 6h 40s\n",
            "2100:\tlearn: 0.0920994\ttest: 0.1187705\tbest: 0.1187705 (2100)\ttotal: 4h 12m 31s\tremaining: 5h 48m 26s\n",
            "2200:\tlearn: 0.0914356\ttest: 0.1184357\tbest: 0.1184357 (2200)\ttotal: 4h 24m 24s\tremaining: 5h 36m 15s\n",
            "2300:\tlearn: 0.0908507\ttest: 0.1181693\tbest: 0.1181629 (2292)\ttotal: 4h 36m 23s\tremaining: 5h 24m 11s\n",
            "2400:\tlearn: 0.0902114\ttest: 0.1178575\tbest: 0.1178536 (2397)\ttotal: 4h 48m 16s\tremaining: 5h 12m 2s\n",
            "2500:\tlearn: 0.0894606\ttest: 0.1174313\tbest: 0.1174313 (2500)\ttotal: 5h 9s\tremaining: 4h 59m 55s\n",
            "Stopped by overfitting detector  (20 iterations wait)\n",
            "\n",
            "bestTest = 0.1173425003\n",
            "bestIteration = 2520\n",
            "\n",
            "Shrink model to first 2521 iterations.\n",
            "CPU times: user 9h 54min 38s, sys: 52.5 s, total: 9h 55min 31s\n",
            "Wall time: 5h 6min 2s\n"
          ]
        },
        {
          "output_type": "execute_result",
          "data": {
            "text/plain": [
              "<catboost.core.CatBoostClassifier at 0x7f9a697df290>"
            ]
          },
          "metadata": {},
          "execution_count": 21
        }
      ],
      "source": [
        "%%time\n",
        "\n",
        "model = CatBoostClassifier(\n",
        "    random_state=12345,\n",
        "    iterations = 5000,  \n",
        "    learning_rate = 0.1,\n",
        "    bootstrap_type ='Bernoulli', \n",
        "    class_weights = class_weights, \n",
        "    verbose = 100,\n",
        "    loss_function = 'MultiClass',\n",
        ")\n",
        "\n",
        "model.fit(X_train, y_train, early_stopping_rounds=20, eval_set=(X_test, y_test)) #, plot=True)\n"
      ]
    },
    {
      "cell_type": "code",
      "execution_count": null,
      "metadata": {
        "id": "btxziOiSLbqv"
      },
      "outputs": [],
      "source": [
        "predictions = model.predict(X_test)"
      ]
    },
    {
      "cell_type": "code",
      "execution_count": null,
      "metadata": {
        "id": "40gDDDYILd9Z",
        "colab": {
          "base_uri": "https://localhost:8080/"
        },
        "outputId": "d4e98373-285d-46e0-bb33-22eefcbf2372"
      },
      "outputs": [
        {
          "output_type": "stream",
          "name": "stdout",
          "text": [
            "0.9651120773605507\n"
          ]
        }
      ],
      "source": [
        "print (recall_score(y_test, predictions, average='macro'))"
      ]
    },
    {
      "cell_type": "code",
      "execution_count": null,
      "metadata": {
        "id": "Sc62GhuxLf4R"
      },
      "outputs": [],
      "source": [
        "final_test = vectorize.transform(test['name'])"
      ]
    },
    {
      "cell_type": "code",
      "execution_count": null,
      "metadata": {
        "id": "a0jVHvY0Lh1M"
      },
      "outputs": [],
      "source": [
        "pred_solution = model.predict(final_test)"
      ]
    },
    {
      "cell_type": "code",
      "execution_count": null,
      "metadata": {
        "id": "nUuaN-M2Ljpf"
      },
      "outputs": [],
      "source": [
        "sample_solution['groups'] = pred_solution.astype(int)"
      ]
    },
    {
      "cell_type": "code",
      "execution_count": null,
      "metadata": {
        "id": "CatAmEkZLlhw"
      },
      "outputs": [],
      "source": [
        "sample_solution.to_csv('submission_9.csv', index=False)"
      ]
    },
    {
      "cell_type": "code",
      "execution_count": null,
      "metadata": {
        "id": "pSl8GwkMN2gw",
        "colab": {
          "base_uri": "https://localhost:8080/",
          "height": 17
        },
        "outputId": "0c37c761-20e7-4362-a536-4ab8beaf9fce"
      },
      "outputs": [
        {
          "output_type": "display_data",
          "data": {
            "text/plain": [
              "<IPython.core.display.Javascript object>"
            ],
            "application/javascript": [
              "\n",
              "    async function download(id, filename, size) {\n",
              "      if (!google.colab.kernel.accessAllowed) {\n",
              "        return;\n",
              "      }\n",
              "      const div = document.createElement('div');\n",
              "      const label = document.createElement('label');\n",
              "      label.textContent = `Downloading \"${filename}\": `;\n",
              "      div.appendChild(label);\n",
              "      const progress = document.createElement('progress');\n",
              "      progress.max = size;\n",
              "      div.appendChild(progress);\n",
              "      document.body.appendChild(div);\n",
              "\n",
              "      const buffers = [];\n",
              "      let downloaded = 0;\n",
              "\n",
              "      const channel = await google.colab.kernel.comms.open(id);\n",
              "      // Send a message to notify the kernel that we're ready.\n",
              "      channel.send({})\n",
              "\n",
              "      for await (const message of channel.messages) {\n",
              "        // Send a message to notify the kernel that we're ready.\n",
              "        channel.send({})\n",
              "        if (message.buffers) {\n",
              "          for (const buffer of message.buffers) {\n",
              "            buffers.push(buffer);\n",
              "            downloaded += buffer.byteLength;\n",
              "            progress.value = downloaded;\n",
              "          }\n",
              "        }\n",
              "      }\n",
              "      const blob = new Blob(buffers, {type: 'application/binary'});\n",
              "      const a = document.createElement('a');\n",
              "      a.href = window.URL.createObjectURL(blob);\n",
              "      a.download = filename;\n",
              "      div.appendChild(a);\n",
              "      a.click();\n",
              "      div.remove();\n",
              "    }\n",
              "  "
            ]
          },
          "metadata": {}
        },
        {
          "output_type": "display_data",
          "data": {
            "text/plain": [
              "<IPython.core.display.Javascript object>"
            ],
            "application/javascript": [
              "download(\"download_e28b5f0d-2c65-4956-9c7f-aa37ab994a71\", \"submission_9.csv\", 2654572)"
            ]
          },
          "metadata": {}
        }
      ],
      "source": [
        "from google.colab import files\n",
        "files.download(\"submission_9.csv\")"
      ]
    }
  ],
  "metadata": {
    "colab": {
      "collapsed_sections": [],
      "provenance": [],
      "include_colab_link": true
    },
    "kernelspec": {
      "display_name": "Python 3",
      "language": "python",
      "name": "python3"
    },
    "language_info": {
      "codemirror_mode": {
        "name": "ipython",
        "version": 3
      },
      "file_extension": ".py",
      "mimetype": "text/x-python",
      "name": "python",
      "nbconvert_exporter": "python",
      "pygments_lexer": "ipython3",
      "version": "3.8.8"
    }
  },
  "nbformat": 4,
  "nbformat_minor": 0
}